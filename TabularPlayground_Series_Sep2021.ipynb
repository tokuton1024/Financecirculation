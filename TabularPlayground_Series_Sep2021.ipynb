{
  "nbformat": 4,
  "nbformat_minor": 0,
  "metadata": {
    "colab": {
      "name": "TabularPlayground Series-Sep2021",
      "provenance": [],
      "collapsed_sections": [],
      "include_colab_link": true
    },
    "kernelspec": {
      "display_name": "Python 3",
      "name": "python3"
    }
  },
  "cells": [
    {
      "cell_type": "markdown",
      "metadata": {
        "id": "view-in-github",
        "colab_type": "text"
      },
      "source": [
        "<a href=\"https://colab.research.google.com/github/tokuton1024/Financecirculation/blob/master/TabularPlayground_Series_Sep2021.ipynb\" target=\"_parent\"><img src=\"https://colab.research.google.com/assets/colab-badge.svg\" alt=\"Open In Colab\"/></a>"
      ]
    },
    {
      "cell_type": "code",
      "metadata": {
        "id": "owbZCHLNcizo"
      },
      "source": [
        "#https://www.kaggle.com/hiro5299834/tps-sep-2021-single-lgbm"
      ],
      "execution_count": 10,
      "outputs": []
    },
    {
      "cell_type": "code",
      "metadata": {
        "id": "1t-xGvx2eJwh",
        "colab": {
          "base_uri": "https://localhost:8080/"
        },
        "outputId": "7a7e1e30-1676-4e31-f004-83082e8e9e19"
      },
      "source": [
        "from google.colab import drive\n",
        "drive.mount('/content/drive')"
      ],
      "execution_count": 11,
      "outputs": [
        {
          "output_type": "stream",
          "name": "stdout",
          "text": [
            "Drive already mounted at /content/drive; to attempt to forcibly remount, call drive.mount(\"/content/drive\", force_remount=True).\n"
          ]
        }
      ]
    },
    {
      "cell_type": "code",
      "metadata": {
        "id": "ogAegBTLdRsF"
      },
      "source": [
        "import pandas as pd\n",
        "import numpy as np\n",
        "import random\n",
        "import time\n",
        "import os\n",
        "import gc\n",
        "\n",
        "from sklearn.model_selection import KFold\n",
        "from sklearn.preprocessing import StandardScaler\n",
        "from sklearn.metrics import roc_auc_score\n",
        "\n",
        "import lightgbm as lgb\n",
        "\n",
        "import matplotlib.pyplot as plt\n",
        "import seaborn as sns\n",
        "\n",
        "import warnings\n",
        "warnings.simplefilter('ignore')"
      ],
      "execution_count": 12,
      "outputs": []
    },
    {
      "cell_type": "code",
      "metadata": {
        "id": "3RoXJUxfh9mH"
      },
      "source": [
        "N_SPLITS = 5\n",
        "N_ESTIMATORS = 20000\n",
        "EARLY_STOPPING_ROUNDS = 200\n",
        "VERBOSE = 1000\n",
        "SEED = 2021"
      ],
      "execution_count": 13,
      "outputs": []
    },
    {
      "cell_type": "code",
      "metadata": {
        "id": "uGaPrke1-hxt"
      },
      "source": [
        "def seed_everything(seed=42):\n",
        "    random.seed(seed)\n",
        "    os.environ['PYTHONHASHSEED'] = str(seed)\n",
        "    np.random.seed(seed)\n",
        "\n",
        "seed_everything(SEED)"
      ],
      "execution_count": 14,
      "outputs": []
    },
    {
      "cell_type": "code",
      "metadata": {
        "id": "9ifVeyD2-pLs"
      },
      "source": [
        "INPUT = \"/content/drive/My Drive/Tabular Playground Series - Sep 2021/Input/\"\n",
        "\n",
        "train = pd.read_csv(INPUT + \"train.csv\")\n",
        "test = pd.read_csv(INPUT + \"test.csv\")\n"
      ],
      "execution_count": 15,
      "outputs": []
    },
    {
      "cell_type": "code",
      "metadata": {
        "id": "-GapN887AYEf"
      },
      "source": [
        "Data = \"/content/drive/My Drive/Tabular Playground Series - Sep 2021/Data/\"\n",
        "submission = pd.read_csv(Data + \"sample_solution.csv\")\n",
        "\n",
        "features = [col for col in test.columns if 'f' in col]\n",
        "TARGET = 'claim'\n",
        "\n",
        "target = train[TARGET].copy()"
      ],
      "execution_count": 16,
      "outputs": []
    },
    {
      "cell_type": "code",
      "metadata": {
        "id": "Tol14eZSAh38"
      },
      "source": [
        "train['n_missing'] = train[features].isna().sum(axis=1)\n",
        "test['n_missing'] = test[features].isna().sum(axis=1)\n",
        "\n",
        "train['std'] = train[features].std(axis=1)\n",
        "test['std'] = test[features].std(axis=1)\n",
        "\n",
        "features += ['n_missing', 'std']"
      ],
      "execution_count": 17,
      "outputs": []
    },
    {
      "cell_type": "code",
      "metadata": {
        "id": "pfs5eAscCJHO"
      },
      "source": [
        "train[features] = train[features].fillna(train[features].mean())\n",
        "test[features] = test[features].fillna(test[features].mean())"
      ],
      "execution_count": 18,
      "outputs": []
    },
    {
      "cell_type": "code",
      "metadata": {
        "id": "Bx9L8Y6zCL2o"
      },
      "source": [
        "scaler = StandardScaler()\n",
        "train[features] = scaler.fit_transform(train[features])\n",
        "test[features] = scaler.transform(test[features])"
      ],
      "execution_count": 19,
      "outputs": []
    },
    {
      "cell_type": "code",
      "metadata": {
        "colab": {
          "base_uri": "https://localhost:8080/"
        },
        "id": "uH1LIycYCOD8",
        "outputId": "e47006d6-8727-47f0-94a0-9eee3b4e226a"
      },
      "source": [
        "train.shape, test.shape"
      ],
      "execution_count": 20,
      "outputs": [
        {
          "output_type": "execute_result",
          "data": {
            "text/plain": [
              "((957919, 122), (493474, 121))"
            ]
          },
          "metadata": {},
          "execution_count": 20
        }
      ]
    },
    {
      "cell_type": "markdown",
      "metadata": {
        "id": "sZkPb6PICuA4"
      },
      "source": [
        "#LGBMClassifier"
      ]
    },
    {
      "cell_type": "code",
      "metadata": {
        "id": "EUhell_kCn22"
      },
      "source": [
        "lgb_params = {\n",
        "    'objective': 'binary',\n",
        "    'n_estimators': N_ESTIMATORS,\n",
        "    'random_state': SEED,\n",
        "    'learning_rate': 5e-3,\n",
        "    'subsample': 0.6,\n",
        "    'subsample_freq': 1,\n",
        "    'colsample_bytree': 0.4,\n",
        "    'reg_alpha': 10.0,\n",
        "    'reg_lambda': 1e-1,\n",
        "    'min_child_weight': 256,\n",
        "    'min_child_samples': 20,\n",
        "    'importance_type': 'gain',\n",
        "}"
      ],
      "execution_count": 21,
      "outputs": []
    },
    {
      "cell_type": "code",
      "metadata": {
        "colab": {
          "base_uri": "https://localhost:8080/"
        },
        "id": "mzpuOz5VC8rA",
        "outputId": "b1108bbb-aae2-421f-9e50-44fe77246344"
      },
      "source": [
        "lgb_oof = np.zeros(train.shape[0])\n",
        "lgb_pred = np.zeros(test.shape[0])\n",
        "lgb_importances = pd.DataFrame()\n",
        "\n",
        "kf = KFold(n_splits=N_SPLITS, shuffle=True, random_state=SEED)\n",
        "\n",
        "for fold, (trn_idx, val_idx) in enumerate(kf.split(X=train)):\n",
        "    print(f\"===== fold {fold} =====\")\n",
        "    X_train = train[features].iloc[trn_idx]\n",
        "    y_train = target.iloc[trn_idx]\n",
        "    X_valid = train[features].iloc[val_idx]\n",
        "    y_valid = target.iloc[val_idx]\n",
        "    X_test = test[features]\n",
        "    \n",
        "    start = time.time()\n",
        "    model = lgb.LGBMClassifier(**lgb_params)\n",
        "    model.fit(\n",
        "        X_train, \n",
        "        y_train,\n",
        "        eval_set=[(X_valid, y_valid)],\n",
        "        eval_metric='auc',\n",
        "        early_stopping_rounds=EARLY_STOPPING_ROUNDS,\n",
        "        verbose=VERBOSE,\n",
        "    )\n",
        "    \n"
      ],
      "execution_count": null,
      "outputs": [
        {
          "output_type": "stream",
          "name": "stdout",
          "text": [
            "===== fold 0 =====\n",
            "Training until validation scores don't improve for 200 rounds.\n",
            "[1000]\tvalid_0's binary_logloss: 0.514806\tvalid_0's auc: 0.810282\n",
            "[2000]\tvalid_0's binary_logloss: 0.509746\tvalid_0's auc: 0.812608\n",
            "[3000]\tvalid_0's binary_logloss: 0.508828\tvalid_0's auc: 0.813692\n",
            "[4000]\tvalid_0's binary_logloss: 0.508353\tvalid_0's auc: 0.814297\n",
            "[5000]\tvalid_0's binary_logloss: 0.508052\tvalid_0's auc: 0.814711\n",
            "[6000]\tvalid_0's binary_logloss: 0.507854\tvalid_0's auc: 0.814982\n",
            "[7000]\tvalid_0's binary_logloss: 0.507705\tvalid_0's auc: 0.815204\n",
            "[8000]\tvalid_0's binary_logloss: 0.507599\tvalid_0's auc: 0.815373\n",
            "[9000]\tvalid_0's binary_logloss: 0.507525\tvalid_0's auc: 0.815492\n",
            "[10000]\tvalid_0's binary_logloss: 0.507446\tvalid_0's auc: 0.815597\n",
            "[11000]\tvalid_0's binary_logloss: 0.507396\tvalid_0's auc: 0.815672\n",
            "Early stopping, best iteration is:\n",
            "[11365]\tvalid_0's binary_logloss: 0.507377\tvalid_0's auc: 0.815698\n",
            "===== fold 1 =====\n",
            "Training until validation scores don't improve for 200 rounds.\n",
            "[1000]\tvalid_0's binary_logloss: 0.514429\tvalid_0's auc: 0.810816\n",
            "[2000]\tvalid_0's binary_logloss: 0.509367\tvalid_0's auc: 0.813238\n",
            "[3000]\tvalid_0's binary_logloss: 0.508468\tvalid_0's auc: 0.814314\n",
            "[4000]\tvalid_0's binary_logloss: 0.507976\tvalid_0's auc: 0.814972\n",
            "[5000]\tvalid_0's binary_logloss: 0.507688\tvalid_0's auc: 0.815368\n",
            "[6000]\tvalid_0's binary_logloss: 0.507503\tvalid_0's auc: 0.815632\n",
            "[7000]\tvalid_0's binary_logloss: 0.507362\tvalid_0's auc: 0.815849\n",
            "[8000]\tvalid_0's binary_logloss: 0.507265\tvalid_0's auc: 0.816001\n",
            "[9000]\tvalid_0's binary_logloss: 0.507191\tvalid_0's auc: 0.816118\n",
            "[10000]\tvalid_0's binary_logloss: 0.507119\tvalid_0's auc: 0.816231\n",
            "[11000]\tvalid_0's binary_logloss: 0.507084\tvalid_0's auc: 0.816262\n",
            "Early stopping, best iteration is:\n",
            "[10812]\tvalid_0's binary_logloss: 0.507084\tvalid_0's auc: 0.816273\n",
            "===== fold 2 =====\n",
            "Training until validation scores don't improve for 200 rounds.\n",
            "[1000]\tvalid_0's binary_logloss: 0.515016\tvalid_0's auc: 0.81039\n",
            "[2000]\tvalid_0's binary_logloss: 0.509947\tvalid_0's auc: 0.812896\n",
            "[3000]\tvalid_0's binary_logloss: 0.508963\tvalid_0's auc: 0.814097\n",
            "[4000]\tvalid_0's binary_logloss: 0.508426\tvalid_0's auc: 0.814837\n",
            "[5000]\tvalid_0's binary_logloss: 0.5081\tvalid_0's auc: 0.815284\n",
            "[6000]\tvalid_0's binary_logloss: 0.507869\tvalid_0's auc: 0.815627\n",
            "[7000]\tvalid_0's binary_logloss: 0.5077\tvalid_0's auc: 0.815875\n",
            "[8000]\tvalid_0's binary_logloss: 0.507589\tvalid_0's auc: 0.816047\n",
            "[9000]\tvalid_0's binary_logloss: 0.507494\tvalid_0's auc: 0.816181\n",
            "[10000]\tvalid_0's binary_logloss: 0.507421\tvalid_0's auc: 0.816284\n",
            "[11000]\tvalid_0's binary_logloss: 0.507356\tvalid_0's auc: 0.816381\n",
            "[12000]\tvalid_0's binary_logloss: 0.507323\tvalid_0's auc: 0.816433\n",
            "Early stopping, best iteration is:\n",
            "[12067]\tvalid_0's binary_logloss: 0.507319\tvalid_0's auc: 0.816439\n",
            "===== fold 3 =====\n",
            "Training until validation scores don't improve for 200 rounds.\n",
            "[1000]\tvalid_0's binary_logloss: 0.512363\tvalid_0's auc: 0.812349\n",
            "[2000]\tvalid_0's binary_logloss: 0.507019\tvalid_0's auc: 0.81425\n",
            "[3000]\tvalid_0's binary_logloss: 0.506123\tvalid_0's auc: 0.815231\n",
            "[4000]\tvalid_0's binary_logloss: 0.505692\tvalid_0's auc: 0.815786\n",
            "[5000]\tvalid_0's binary_logloss: 0.50545\tvalid_0's auc: 0.816113\n"
          ]
        }
      ]
    },
    {
      "cell_type": "markdown",
      "metadata": {
        "id": "qOvkcs2kTUr5"
      },
      "source": [
        "# feature_nameについてhttps://stackoverflow.com/questions/60323854/attributeerror-lgbmregressor-object-has-no-attribute-feature-name"
      ]
    },
    {
      "cell_type": "code",
      "metadata": {
        "id": "9_JZM2gWRzQJ"
      },
      "source": [
        "    fi_tmp = pd.DataFrame()\n",
        "    fi_tmp['feature'] = model.booster_.feature_name()\n",
        "    fi_tmp['importance'] = model.feature_importances_\n",
        "    fi_tmp['fold'] = fold\n",
        "    fi_tmp['seed'] = SEED\n",
        "    lgb_importances = lgb_importances.append(fi_tmp)\n",
        "\n",
        "    lgb_oof[val_idx] = model.predict_proba(X_valid)[:, -1]\n",
        "    lgb_pred += model.predict_proba(X_test)[:, -1] / N_SPLITS\n",
        "\n",
        "    elapsed = time.time() - start\n",
        "    auc = roc_auc_score(y_valid, lgb_oof[val_idx])\n",
        "    print(f\"fold {fold} - lgb auc: {auc:.6f}, elapsed time: {elapsed:.2f}sec\\n\")\n",
        "\n",
        "print(f\"oof lgb roc = {roc_auc_score(target, lgb_oof)}\")\n",
        "\n",
        "np.save(\"lgb_oof.npy\", lgb_oof)\n",
        "np.save(\"lgb_pred.npy\", lgb_pred)"
      ],
      "execution_count": null,
      "outputs": []
    },
    {
      "cell_type": "code",
      "metadata": {
        "id": "PGCKY9HtC9x4"
      },
      "source": [
        ""
      ],
      "execution_count": null,
      "outputs": []
    }
  ]
}