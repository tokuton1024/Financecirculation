{
  "nbformat": 4,
  "nbformat_minor": 0,
  "metadata": {
    "colab": {
      "name": "TabularPlayground Series-Sep2021",
      "provenance": [],
      "collapsed_sections": [],
      "include_colab_link": true
    },
    "kernelspec": {
      "display_name": "Python 3",
      "name": "python3"
    }
  },
  "cells": [
    {
      "cell_type": "markdown",
      "metadata": {
        "id": "view-in-github",
        "colab_type": "text"
      },
      "source": [
        "<a href=\"https://colab.research.google.com/github/tokuton1024/Kaggle/blob/master/LGBM-TabularPlayground_Series_Sep2021.ipynb\" target=\"_parent\"><img src=\"https://colab.research.google.com/assets/colab-badge.svg\" alt=\"Open In Colab\"/></a>"
      ]
    },
    {
      "cell_type": "code",
      "metadata": {
        "id": "owbZCHLNcizo"
      },
      "source": [
        "#https://www.kaggle.com/hiro5299834/tps-sep-2021-single-lgbm"
      ],
      "execution_count": 1,
      "outputs": []
    },
    {
      "cell_type": "code",
      "metadata": {
        "id": "1t-xGvx2eJwh",
        "colab": {
          "base_uri": "https://localhost:8080/"
        },
        "outputId": "a36827ee-6f5c-475e-e233-c170d08e1d5e"
      },
      "source": [
        "from google.colab import drive\n",
        "drive.mount('/content/drive')"
      ],
      "execution_count": 2,
      "outputs": [
        {
          "output_type": "stream",
          "name": "stdout",
          "text": [
            "Mounted at /content/drive\n"
          ]
        }
      ]
    },
    {
      "cell_type": "code",
      "metadata": {
        "id": "ogAegBTLdRsF"
      },
      "source": [
        "import pandas as pd\n",
        "import numpy as np\n",
        "import random\n",
        "import time\n",
        "import os\n",
        "import gc\n",
        "\n",
        "from sklearn.model_selection import KFold\n",
        "from sklearn.preprocessing import StandardScaler\n",
        "from sklearn.metrics import roc_auc_score\n",
        "\n",
        "import lightgbm as lgb\n",
        "\n",
        "import matplotlib.pyplot as plt\n",
        "import seaborn as sns\n",
        "\n",
        "import warnings\n",
        "warnings.simplefilter('ignore')"
      ],
      "execution_count": 2,
      "outputs": []
    },
    {
      "cell_type": "code",
      "metadata": {
        "id": "3RoXJUxfh9mH"
      },
      "source": [
        "N_SPLITS = 5 #Dataの分割数\n",
        "N_ESTIMATORS = 20000 #決定木の数(=反復回数)\n",
        "EARLY_STOPPING_ROUNDS = 200 #早期終了させる数\n",
        "VERBOSE = 1000 #学習中にどの頻度でメッセージを吐き出すか\n",
        "SEED = 2021 #乱数シードを固定する"
      ],
      "execution_count": 1,
      "outputs": []
    },
    {
      "cell_type": "code",
      "metadata": {
        "id": "uGaPrke1-hxt"
      },
      "source": [
        "def seed_everything(seed=42):\n",
        "    random.seed(seed)\n",
        "    os.environ['PYTHONHASHSEED'] = str(seed)\n",
        "    np.random.seed(seed)\n",
        "\n",
        "seed_everything(SEED)"
      ],
      "execution_count": 5,
      "outputs": []
    },
    {
      "cell_type": "code",
      "metadata": {
        "id": "9ifVeyD2-pLs"
      },
      "source": [
        "INPUT = \"/content/drive/My Drive/Tabular Playground Series - Sep 2021/Input/\"\n",
        "\n",
        "train = pd.read_csv(INPUT + \"train.csv\")\n",
        "test = pd.read_csv(INPUT + \"test.csv\")\n"
      ],
      "execution_count": 6,
      "outputs": []
    },
    {
      "cell_type": "code",
      "metadata": {
        "id": "-GapN887AYEf"
      },
      "source": [
        "Data = \"/content/drive/My Drive/Tabular Playground Series - Sep 2021/Data/\"\n",
        "submission = pd.read_csv(Data + \"sample_solution.csv\")\n",
        "\n",
        "features = [col for col in test.columns if 'f' in col]\n",
        "TARGET = 'claim'\n",
        "\n",
        "target = train[TARGET].copy()"
      ],
      "execution_count": 7,
      "outputs": []
    },
    {
      "cell_type": "code",
      "metadata": {
        "id": "Tol14eZSAh38"
      },
      "source": [
        "train['n_missing'] = train[features].isna().sum(axis=1)\n",
        "test['n_missing'] = test[features].isna().sum(axis=1)\n",
        "\n",
        "train['std'] = train[features].std(axis=1)\n",
        "test['std'] = test[features].std(axis=1)\n",
        "\n",
        "features += ['n_missing', 'std']"
      ],
      "execution_count": 8,
      "outputs": []
    },
    {
      "cell_type": "code",
      "metadata": {
        "id": "pfs5eAscCJHO"
      },
      "source": [
        "train[features] = train[features].fillna(train[features].mean())\n",
        "test[features] = test[features].fillna(test[features].mean())"
      ],
      "execution_count": 9,
      "outputs": []
    },
    {
      "cell_type": "code",
      "metadata": {
        "id": "Bx9L8Y6zCL2o"
      },
      "source": [
        "scaler = StandardScaler()\n",
        "train[features] = scaler.fit_transform(train[features])\n",
        "test[features] = scaler.transform(test[features])"
      ],
      "execution_count": 10,
      "outputs": []
    },
    {
      "cell_type": "code",
      "metadata": {
        "colab": {
          "base_uri": "https://localhost:8080/"
        },
        "id": "uH1LIycYCOD8",
        "outputId": "93ac8e07-d885-4a0e-fef1-a38f84112584"
      },
      "source": [
        "train.shape, test.shape"
      ],
      "execution_count": 11,
      "outputs": [
        {
          "output_type": "execute_result",
          "data": {
            "text/plain": [
              "((957919, 122), (493474, 121))"
            ]
          },
          "metadata": {},
          "execution_count": 11
        }
      ]
    },
    {
      "cell_type": "markdown",
      "metadata": {
        "id": "sZkPb6PICuA4"
      },
      "source": [
        "#LGBMClassifier"
      ]
    },
    {
      "cell_type": "code",
      "metadata": {
        "id": "EUhell_kCn22"
      },
      "source": [
        "#objective:目的関数\n",
        "#n_estimators:決定木の数\n",
        "#random_state:乱数シード数(固定するために使う)\n",
        "#learning_rate:学習率XGBでいうη(eta)決定木を作成しアップデートする際に葉のウェイトをこの比率を乗じて小さくした値を予測値に加える\n",
        "#subsample:決定木ごとに学習データ行をサンプリング(Bootstrap Aggregating)する割合\n",
        "#'subsample_freq': 1　perform bagging at every 1 iteration.\n",
        "#n_estimators:決定木の数(=反復回数)\n",
        "#reg_alpha:L1正則化のパラメータ(決定木の葉のウェイトに対する罰則)\n",
        "#reg_lambda:L2正則化のパラメータ(決定木の葉のウェイトの二乗に対する罰則)\n",
        "#正則化については　https://ai-trend.jp/basic-study/neural-network/regularization/　を参照\n",
        "#min_child_weight:決定木を分岐させるのに必要な葉の数、100個は必要\n",
        "#min_child_samples:一つの葉に最低必要なデータの数\n",
        "\n",
        "N_ESTIMATORS = 20000\n",
        "SEED = 2021\n",
        "\n",
        "lgb_params = {\n",
        "    'objective': 'binary',\n",
        "    'n_estimators': N_ESTIMATORS,\n",
        "    'random_state': SEED,         \n",
        "    'learning_rate': 5e-3,\n",
        "    'subsample': 0.6,\n",
        "    'subsample_freq': 1,\n",
        "    'colsample_bytree': 0.4,\n",
        "    'reg_alpha': 10.0,\n",
        "    'reg_lambda': 1e-1,\n",
        "    'min_child_weight': 256,\n",
        "    'min_child_samples': 20,\n",
        "    'importance_type': 'gain',\n",
        "}"
      ],
      "execution_count": 12,
      "outputs": []
    },
    {
      "cell_type": "code",
      "metadata": {
        "id": "jriR39X_3Ijd"
      },
      "source": [
        "lgb_oof = np.zeros(train.shape[0])\n",
        "lgb_pred = np.zeros(test.shape[0])\n",
        "lgb_importances = pd.DataFrame()\n",
        "\n",
        "N_SPLITS = 5 #Dataの分割数\n",
        "#shuffle：Trueなら連続する数字でグループ分けせず，ランダムにデータを選択\n",
        "kf = KFold(n_splits=N_SPLITS, shuffle=True, random_state=SEED)"
      ],
      "execution_count": 22,
      "outputs": []
    },
    {
      "cell_type": "code",
      "metadata": {
        "colab": {
          "base_uri": "https://localhost:8080/"
        },
        "id": "mzpuOz5VC8rA",
        "outputId": "dcc3fcf0-8671-4d3b-dabc-9da9d58b9b4a"
      },
      "source": [
        "VERBOSE = 1000 #学習中にどの頻度でメッセージを吐き出すか\n",
        "EARLY_STOPPING_ROUNDS = 200 #早期終了させる数\n",
        "\n",
        "for fold, (trn_idx, val_idx) in enumerate(kf.split(X=train)):\n",
        "    print(f\"===== fold {fold} =====\")\n",
        "    X_train = train[features].iloc[trn_idx]\n",
        "    y_train = target.iloc[trn_idx]\n",
        "    X_valid = train[features].iloc[val_idx]\n",
        "    y_valid = target.iloc[val_idx]\n",
        "    X_test = test[features]\n",
        "    \n",
        "    start = time.time()\n",
        "    model = lgb.LGBMClassifier(**lgb_params)\n",
        "    model.fit(\n",
        "        X_train, \n",
        "        y_train,\n",
        "        eval_set=[(X_valid, y_valid)],\n",
        "        eval_metric='auc',\n",
        "        early_stopping_rounds=EARLY_STOPPING_ROUNDS,\n",
        "        verbose=VERBOSE,\n",
        "    )\n"
      ],
      "execution_count": 23,
      "outputs": [
        {
          "output_type": "stream",
          "name": "stdout",
          "text": [
            "===== fold 0 =====\n",
            "Training until validation scores don't improve for 200 rounds.\n",
            "[1000]\tvalid_0's auc: 0.810282\tvalid_0's binary_logloss: 0.514806\n",
            "[2000]\tvalid_0's auc: 0.812608\tvalid_0's binary_logloss: 0.509746\n",
            "[3000]\tvalid_0's auc: 0.813692\tvalid_0's binary_logloss: 0.508828\n",
            "[4000]\tvalid_0's auc: 0.814297\tvalid_0's binary_logloss: 0.508353\n",
            "[5000]\tvalid_0's auc: 0.814711\tvalid_0's binary_logloss: 0.508052\n",
            "[6000]\tvalid_0's auc: 0.814982\tvalid_0's binary_logloss: 0.507854\n",
            "[7000]\tvalid_0's auc: 0.815204\tvalid_0's binary_logloss: 0.507705\n",
            "[8000]\tvalid_0's auc: 0.815373\tvalid_0's binary_logloss: 0.507599\n",
            "[9000]\tvalid_0's auc: 0.815492\tvalid_0's binary_logloss: 0.507525\n",
            "[10000]\tvalid_0's auc: 0.815597\tvalid_0's binary_logloss: 0.507446\n",
            "[11000]\tvalid_0's auc: 0.815672\tvalid_0's binary_logloss: 0.507396\n",
            "Early stopping, best iteration is:\n",
            "[11365]\tvalid_0's auc: 0.815698\tvalid_0's binary_logloss: 0.507377\n",
            "===== fold 1 =====\n",
            "Training until validation scores don't improve for 200 rounds.\n",
            "[1000]\tvalid_0's auc: 0.810816\tvalid_0's binary_logloss: 0.514429\n",
            "[2000]\tvalid_0's auc: 0.813238\tvalid_0's binary_logloss: 0.509367\n",
            "[3000]\tvalid_0's auc: 0.814314\tvalid_0's binary_logloss: 0.508468\n",
            "[4000]\tvalid_0's auc: 0.814972\tvalid_0's binary_logloss: 0.507976\n",
            "[5000]\tvalid_0's auc: 0.815368\tvalid_0's binary_logloss: 0.507688\n",
            "[6000]\tvalid_0's auc: 0.815632\tvalid_0's binary_logloss: 0.507503\n",
            "[7000]\tvalid_0's auc: 0.815849\tvalid_0's binary_logloss: 0.507362\n",
            "[8000]\tvalid_0's auc: 0.816001\tvalid_0's binary_logloss: 0.507265\n",
            "[9000]\tvalid_0's auc: 0.816118\tvalid_0's binary_logloss: 0.507191\n",
            "[10000]\tvalid_0's auc: 0.816231\tvalid_0's binary_logloss: 0.507119\n",
            "[11000]\tvalid_0's auc: 0.816262\tvalid_0's binary_logloss: 0.507084\n",
            "Early stopping, best iteration is:\n",
            "[10812]\tvalid_0's auc: 0.816273\tvalid_0's binary_logloss: 0.507084\n",
            "===== fold 2 =====\n",
            "Training until validation scores don't improve for 200 rounds.\n",
            "[1000]\tvalid_0's auc: 0.81039\tvalid_0's binary_logloss: 0.515016\n",
            "[2000]\tvalid_0's auc: 0.812896\tvalid_0's binary_logloss: 0.509947\n",
            "[3000]\tvalid_0's auc: 0.814097\tvalid_0's binary_logloss: 0.508963\n",
            "[4000]\tvalid_0's auc: 0.814837\tvalid_0's binary_logloss: 0.508426\n",
            "[5000]\tvalid_0's auc: 0.815284\tvalid_0's binary_logloss: 0.5081\n",
            "[6000]\tvalid_0's auc: 0.815627\tvalid_0's binary_logloss: 0.507869\n",
            "[7000]\tvalid_0's auc: 0.815875\tvalid_0's binary_logloss: 0.5077\n",
            "[8000]\tvalid_0's auc: 0.816047\tvalid_0's binary_logloss: 0.507589\n",
            "[9000]\tvalid_0's auc: 0.816181\tvalid_0's binary_logloss: 0.507494\n",
            "[10000]\tvalid_0's auc: 0.816284\tvalid_0's binary_logloss: 0.507421\n",
            "[11000]\tvalid_0's auc: 0.816381\tvalid_0's binary_logloss: 0.507356\n",
            "[12000]\tvalid_0's auc: 0.816433\tvalid_0's binary_logloss: 0.507323\n",
            "Early stopping, best iteration is:\n",
            "[12067]\tvalid_0's auc: 0.816439\tvalid_0's binary_logloss: 0.507319\n",
            "===== fold 3 =====\n",
            "Training until validation scores don't improve for 200 rounds.\n",
            "[1000]\tvalid_0's auc: 0.812349\tvalid_0's binary_logloss: 0.512363\n",
            "[2000]\tvalid_0's auc: 0.81425\tvalid_0's binary_logloss: 0.507019\n",
            "[3000]\tvalid_0's auc: 0.815231\tvalid_0's binary_logloss: 0.506123\n",
            "[4000]\tvalid_0's auc: 0.815786\tvalid_0's binary_logloss: 0.505692\n",
            "[5000]\tvalid_0's auc: 0.816113\tvalid_0's binary_logloss: 0.50545\n",
            "[6000]\tvalid_0's auc: 0.816332\tvalid_0's binary_logloss: 0.5053\n",
            "[7000]\tvalid_0's auc: 0.816526\tvalid_0's binary_logloss: 0.505178\n",
            "[8000]\tvalid_0's auc: 0.816663\tvalid_0's binary_logloss: 0.50509\n",
            "[9000]\tvalid_0's auc: 0.816766\tvalid_0's binary_logloss: 0.505029\n",
            "[10000]\tvalid_0's auc: 0.81686\tvalid_0's binary_logloss: 0.504975\n",
            "[11000]\tvalid_0's auc: 0.81691\tvalid_0's binary_logloss: 0.504946\n",
            "[12000]\tvalid_0's auc: 0.816928\tvalid_0's binary_logloss: 0.504931\n",
            "Early stopping, best iteration is:\n",
            "[11815]\tvalid_0's auc: 0.816939\tvalid_0's binary_logloss: 0.504928\n",
            "===== fold 4 =====\n",
            "Training until validation scores don't improve for 200 rounds.\n",
            "[1000]\tvalid_0's auc: 0.810094\tvalid_0's binary_logloss: 0.515596\n",
            "[2000]\tvalid_0's auc: 0.812331\tvalid_0's binary_logloss: 0.510807\n",
            "[3000]\tvalid_0's auc: 0.813418\tvalid_0's binary_logloss: 0.509926\n",
            "[4000]\tvalid_0's auc: 0.814083\tvalid_0's binary_logloss: 0.509432\n",
            "[5000]\tvalid_0's auc: 0.814489\tvalid_0's binary_logloss: 0.509133\n",
            "[6000]\tvalid_0's auc: 0.814759\tvalid_0's binary_logloss: 0.50893\n",
            "[7000]\tvalid_0's auc: 0.814958\tvalid_0's binary_logloss: 0.508787\n",
            "[8000]\tvalid_0's auc: 0.815089\tvalid_0's binary_logloss: 0.508687\n",
            "[9000]\tvalid_0's auc: 0.815215\tvalid_0's binary_logloss: 0.508604\n",
            "[10000]\tvalid_0's auc: 0.815303\tvalid_0's binary_logloss: 0.50854\n",
            "[11000]\tvalid_0's auc: 0.815368\tvalid_0's binary_logloss: 0.508487\n",
            "[12000]\tvalid_0's auc: 0.815431\tvalid_0's binary_logloss: 0.508447\n",
            "[13000]\tvalid_0's auc: 0.815504\tvalid_0's binary_logloss: 0.508402\n",
            "Early stopping, best iteration is:\n",
            "[13401]\tvalid_0's auc: 0.815529\tvalid_0's binary_logloss: 0.508384\n"
          ]
        }
      ]
    },
    {
      "cell_type": "code",
      "metadata": {
        "colab": {
          "base_uri": "https://localhost:8080/"
        },
        "id": "9_JZM2gWRzQJ",
        "outputId": "4649f09b-e6c3-40e8-849a-7eb6811dfd00"
      },
      "source": [
        "    fi_tmp = pd.DataFrame()\n",
        "    fi_tmp['feature'] = model.booster_.feature_name()\n",
        "    fi_tmp['importance'] = model.feature_importances_\n",
        "    fi_tmp['fold'] = fold\n",
        "    fi_tmp['seed'] = SEED\n",
        "    lgb_importances = lgb_importances.append(fi_tmp)\n",
        "\n",
        "    lgb_oof[val_idx] = model.predict_proba(X_valid)[:, -1]\n",
        "    lgb_pred += model.predict_proba(X_test)[:, -1] / N_SPLITS\n",
        "\n",
        "    elapsed = time.time() - start\n",
        "    auc = roc_auc_score(y_valid, lgb_oof[val_idx])\n",
        "    print(f\"fold {fold} - lgb auc: {auc:.6f}, elapsed time: {elapsed:.2f}sec\\n\")\n",
        "\n",
        "print(f\"oof lgb roc = {roc_auc_score(target, lgb_oof)}\")\n",
        "\n",
        "np.save(\"lgb_oof.npy\", lgb_oof)\n",
        "np.save(\"lgb_pred.npy\", lgb_pred)"
      ],
      "execution_count": 24,
      "outputs": [
        {
          "output_type": "stream",
          "name": "stdout",
          "text": [
            "fold 4 - lgb auc: 0.815529, elapsed time: 4476.43sec\n",
            "\n",
            "oof lgb roc = 0.5122584161128518\n"
          ]
        }
      ]
    },
    {
      "cell_type": "code",
      "metadata": {
        "colab": {
          "base_uri": "https://localhost:8080/",
          "height": 1000
        },
        "id": "PGCKY9HtC9x4",
        "outputId": "7865fa33-b97b-48f6-f659-bd0c71dace8c"
      },
      "source": [
        "order = list(lgb_importances.groupby('feature').mean().sort_values('importance', ascending=False).index)\n",
        "\n",
        "fig = plt.figure(figsize=(16, 16), tight_layout=True)\n",
        "sns.barplot(x=\"importance\", y=\"feature\", data=lgb_importances.groupby('feature').mean().reset_index(), order=order)\n",
        "plt.title(\"LightGBM feature importances\")"
      ],
      "execution_count": 29,
      "outputs": [
        {
          "output_type": "execute_result",
          "data": {
            "text/plain": [
              "Text(0.5, 1.0, 'LightGBM feature importances')"
            ]
          },
          "metadata": {},
          "execution_count": 29
        },
        {
          "output_type": "display_data",
          "data": {
            "image/png": "[encoded data removed]",
            "text/plain": [
              "<Figure size 1152x1152 with 1 Axes>"
            ]
          },
          "metadata": {
            "needs_background": "light"
          }
        }
      ]
    },
    {
      "cell_type": "code",
      "metadata": {
        "id": "yfQ7IuTZ3v6w"
      },
      "source": [
        "submission[TARGET] = lgb_pred\n",
        "#file出力\n",
        "submission.to_csv(Data + \"submission.csv\", index=False)"
      ],
      "execution_count": 31,
      "outputs": []
    },
    {
      "cell_type": "code",
      "metadata": {
        "id": "4WUaFAGc9hNo"
      },
      "source": [
        ""
      ],
      "execution_count": null,
      "outputs": []
    }
  ]
}