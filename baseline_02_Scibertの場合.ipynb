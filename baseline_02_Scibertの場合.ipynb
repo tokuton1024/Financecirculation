{
  "nbformat": 4,
  "nbformat_minor": 0,
  "metadata": {
    "colab": {
      "name": "baseline_02_Scibertの場合",
      "provenance": [],
      "collapsed_sections": [],
      "include_colab_link": true
    },
    "kernelspec": {
      "display_name": "Python 3",
      "name": "python3"
    },
    "accelerator": "TPU",
    "widgets": {
      "application/vnd.jupyter.widget-state+json": {
        "a81683ffda414673a9bba0594dcef330": {
          "model_module": "@jupyter-widgets/controls",
          "model_name": "HBoxModel",
          "model_module_version": "1.5.0",
          "state": {
            "_view_name": "HBoxView",
            "_dom_classes": [],
            "_model_name": "HBoxModel",
            "_view_module": "@jupyter-widgets/controls",
            "_model_module_version": "1.5.0",
            "_view_count": null,
            "_view_module_version": "1.5.0",
            "box_style": "",
            "layout": "IPY_MODEL_454b6db674674f58a42abf5c94cb197f",
            "_model_module": "@jupyter-widgets/controls",
            "children": [
              "IPY_MODEL_c090faac7821409cae17c753acc7054a",
              "IPY_MODEL_3932bba2f124474db4d178aa8a259b4f",
              "IPY_MODEL_23881e898294463f8b88ca26cec6b3b7"
            ]
          }
        },
        "454b6db674674f58a42abf5c94cb197f": {
          "model_module": "@jupyter-widgets/base",
          "model_name": "LayoutModel",
          "model_module_version": "1.2.0",
          "state": {
            "_view_name": "LayoutView",
            "grid_template_rows": null,
            "right": null,
            "justify_content": null,
            "_view_module": "@jupyter-widgets/base",
            "overflow": null,
            "_model_module_version": "1.2.0",
            "_view_count": null,
            "flex_flow": null,
            "width": null,
            "min_width": null,
            "border": null,
            "align_items": null,
            "bottom": null,
            "_model_module": "@jupyter-widgets/base",
            "top": null,
            "grid_column": null,
            "overflow_y": null,
            "overflow_x": null,
            "grid_auto_flow": null,
            "grid_area": null,
            "grid_template_columns": null,
            "flex": null,
            "_model_name": "LayoutModel",
            "justify_items": null,
            "grid_row": null,
            "max_height": null,
            "align_content": null,
            "visibility": null,
            "align_self": null,
            "height": null,
            "min_height": null,
            "padding": null,
            "grid_auto_rows": null,
            "grid_gap": null,
            "max_width": null,
            "order": null,
            "_view_module_version": "1.2.0",
            "grid_template_areas": null,
            "object_position": null,
            "object_fit": null,
            "grid_auto_columns": null,
            "margin": null,
            "display": null,
            "left": null
          }
        },
        "c090faac7821409cae17c753acc7054a": {
          "model_module": "@jupyter-widgets/controls",
          "model_name": "HTMLModel",
          "model_module_version": "1.5.0",
          "state": {
            "_view_name": "HTMLView",
            "style": "IPY_MODEL_786830d23a01442dbc15b74a70eaec0e",
            "_dom_classes": [],
            "description": "",
            "_model_name": "HTMLModel",
            "placeholder": "​",
            "_view_module": "@jupyter-widgets/controls",
            "_model_module_version": "1.5.0",
            "value": "100%",
            "_view_count": null,
            "_view_module_version": "1.5.0",
            "description_tooltip": null,
            "_model_module": "@jupyter-widgets/controls",
            "layout": "IPY_MODEL_70fc7e66d6af4d6ba6e96434d2e32124"
          }
        },
        "3932bba2f124474db4d178aa8a259b4f": {
          "model_module": "@jupyter-widgets/controls",
          "model_name": "FloatProgressModel",
          "model_module_version": "1.5.0",
          "state": {
            "_view_name": "ProgressView",
            "style": "IPY_MODEL_361f39966990413db10b96fee93d15c2",
            "_dom_classes": [],
            "description": "",
            "_model_name": "FloatProgressModel",
            "bar_style": "success",
            "max": 27145,
            "_view_module": "@jupyter-widgets/controls",
            "_model_module_version": "1.5.0",
            "value": 27145,
            "_view_count": null,
            "_view_module_version": "1.5.0",
            "orientation": "horizontal",
            "min": 0,
            "description_tooltip": null,
            "_model_module": "@jupyter-widgets/controls",
            "layout": "IPY_MODEL_b3f2ca2f388141d0aac67fc6f577c594"
          }
        },
        "23881e898294463f8b88ca26cec6b3b7": {
          "model_module": "@jupyter-widgets/controls",
          "model_name": "HTMLModel",
          "model_module_version": "1.5.0",
          "state": {
            "_view_name": "HTMLView",
            "style": "IPY_MODEL_f4dda49cd72b407abdfe739019657e4f",
            "_dom_classes": [],
            "description": "",
            "_model_name": "HTMLModel",
            "placeholder": "​",
            "_view_module": "@jupyter-widgets/controls",
            "_model_module_version": "1.5.0",
            "value": " 27145/27145 [03:03&lt;00:00, 132.07it/s]",
            "_view_count": null,
            "_view_module_version": "1.5.0",
            "description_tooltip": null,
            "_model_module": "@jupyter-widgets/controls",
            "layout": "IPY_MODEL_87d50a018e004be3adee083799f1caf2"
          }
        },
        "786830d23a01442dbc15b74a70eaec0e": {
          "model_module": "@jupyter-widgets/controls",
          "model_name": "DescriptionStyleModel",
          "model_module_version": "1.5.0",
          "state": {
            "_view_name": "StyleView",
            "_model_name": "DescriptionStyleModel",
            "description_width": "",
            "_view_module": "@jupyter-widgets/base",
            "_model_module_version": "1.5.0",
            "_view_count": null,
            "_view_module_version": "1.2.0",
            "_model_module": "@jupyter-widgets/controls"
          }
        },
        "70fc7e66d6af4d6ba6e96434d2e32124": {
          "model_module": "@jupyter-widgets/base",
          "model_name": "LayoutModel",
          "model_module_version": "1.2.0",
          "state": {
            "_view_name": "LayoutView",
            "grid_template_rows": null,
            "right": null,
            "justify_content": null,
            "_view_module": "@jupyter-widgets/base",
            "overflow": null,
            "_model_module_version": "1.2.0",
            "_view_count": null,
            "flex_flow": null,
            "width": null,
            "min_width": null,
            "border": null,
            "align_items": null,
            "bottom": null,
            "_model_module": "@jupyter-widgets/base",
            "top": null,
            "grid_column": null,
            "overflow_y": null,
            "overflow_x": null,
            "grid_auto_flow": null,
            "grid_area": null,
            "grid_template_columns": null,
            "flex": null,
            "_model_name": "LayoutModel",
            "justify_items": null,
            "grid_row": null,
            "max_height": null,
            "align_content": null,
            "visibility": null,
            "align_self": null,
            "height": null,
            "min_height": null,
            "padding": null,
            "grid_auto_rows": null,
            "grid_gap": null,
            "max_width": null,
            "order": null,
            "_view_module_version": "1.2.0",
            "grid_template_areas": null,
            "object_position": null,
            "object_fit": null,
            "grid_auto_columns": null,
            "margin": null,
            "display": null,
            "left": null
          }
        },
        "361f39966990413db10b96fee93d15c2": {
          "model_module": "@jupyter-widgets/controls",
          "model_name": "ProgressStyleModel",
          "model_module_version": "1.5.0",
          "state": {
            "_view_name": "StyleView",
            "_model_name": "ProgressStyleModel",
            "description_width": "",
            "_view_module": "@jupyter-widgets/base",
            "_model_module_version": "1.5.0",
            "_view_count": null,
            "_view_module_version": "1.2.0",
            "bar_color": null,
            "_model_module": "@jupyter-widgets/controls"
          }
        },
        "b3f2ca2f388141d0aac67fc6f577c594": {
          "model_module": "@jupyter-widgets/base",
          "model_name": "LayoutModel",
          "model_module_version": "1.2.0",
          "state": {
            "_view_name": "LayoutView",
            "grid_template_rows": null,
            "right": null,
            "justify_content": null,
            "_view_module": "@jupyter-widgets/base",
            "overflow": null,
            "_model_module_version": "1.2.0",
            "_view_count": null,
            "flex_flow": null,
            "width": null,
            "min_width": null,
            "border": null,
            "align_items": null,
            "bottom": null,
            "_model_module": "@jupyter-widgets/base",
            "top": null,
            "grid_column": null,
            "overflow_y": null,
            "overflow_x": null,
            "grid_auto_flow": null,
            "grid_area": null,
            "grid_template_columns": null,
            "flex": null,
            "_model_name": "LayoutModel",
            "justify_items": null,
            "grid_row": null,
            "max_height": null,
            "align_content": null,
            "visibility": null,
            "align_self": null,
            "height": null,
            "min_height": null,
            "padding": null,
            "grid_auto_rows": null,
            "grid_gap": null,
            "max_width": null,
            "order": null,
            "_view_module_version": "1.2.0",
            "grid_template_areas": null,
            "object_position": null,
            "object_fit": null,
            "grid_auto_columns": null,
            "margin": null,
            "display": null,
            "left": null
          }
        },
        "f4dda49cd72b407abdfe739019657e4f": {
          "model_module": "@jupyter-widgets/controls",
          "model_name": "DescriptionStyleModel",
          "model_module_version": "1.5.0",
          "state": {
            "_view_name": "StyleView",
            "_model_name": "DescriptionStyleModel",
            "description_width": "",
            "_view_module": "@jupyter-widgets/base",
            "_model_module_version": "1.5.0",
            "_view_count": null,
            "_view_module_version": "1.2.0",
            "_model_module": "@jupyter-widgets/controls"
          }
        },
        "87d50a018e004be3adee083799f1caf2": {
          "model_module": "@jupyter-widgets/base",
          "model_name": "LayoutModel",
          "model_module_version": "1.2.0",
          "state": {
            "_view_name": "LayoutView",
            "grid_template_rows": null,
            "right": null,
            "justify_content": null,
            "_view_module": "@jupyter-widgets/base",
            "overflow": null,
            "_model_module_version": "1.2.0",
            "_view_count": null,
            "flex_flow": null,
            "width": null,
            "min_width": null,
            "border": null,
            "align_items": null,
            "bottom": null,
            "_model_module": "@jupyter-widgets/base",
            "top": null,
            "grid_column": null,
            "overflow_y": null,
            "overflow_x": null,
            "grid_auto_flow": null,
            "grid_area": null,
            "grid_template_columns": null,
            "flex": null,
            "_model_name": "LayoutModel",
            "justify_items": null,
            "grid_row": null,
            "max_height": null,
            "align_content": null,
            "visibility": null,
            "align_self": null,
            "height": null,
            "min_height": null,
            "padding": null,
            "grid_auto_rows": null,
            "grid_gap": null,
            "max_width": null,
            "order": null,
            "_view_module_version": "1.2.0",
            "grid_template_areas": null,
            "object_position": null,
            "object_fit": null,
            "grid_auto_columns": null,
            "margin": null,
            "display": null,
            "left": null
          }
        },
        "b6a49165e806462bb4265ab837dd9af6": {
          "model_module": "@jupyter-widgets/controls",
          "model_name": "HBoxModel",
          "model_module_version": "1.5.0",
          "state": {
            "_view_name": "HBoxView",
            "_dom_classes": [],
            "_model_name": "HBoxModel",
            "_view_module": "@jupyter-widgets/controls",
            "_model_module_version": "1.5.0",
            "_view_count": null,
            "_view_module_version": "1.5.0",
            "box_style": "",
            "layout": "IPY_MODEL_f6924bea91134cd78d1623ed93276977",
            "_model_module": "@jupyter-widgets/controls",
            "children": [
              "IPY_MODEL_9bcea393ccf846a5918767b87836ee6e",
              "IPY_MODEL_40908a9353f54b21ac50d030cdbc6307",
              "IPY_MODEL_5f638b661e174918891ddeef2624ed57"
            ]
          }
        },
        "f6924bea91134cd78d1623ed93276977": {
          "model_module": "@jupyter-widgets/base",
          "model_name": "LayoutModel",
          "model_module_version": "1.2.0",
          "state": {
            "_view_name": "LayoutView",
            "grid_template_rows": null,
            "right": null,
            "justify_content": null,
            "_view_module": "@jupyter-widgets/base",
            "overflow": null,
            "_model_module_version": "1.2.0",
            "_view_count": null,
            "flex_flow": null,
            "width": null,
            "min_width": null,
            "border": null,
            "align_items": null,
            "bottom": null,
            "_model_module": "@jupyter-widgets/base",
            "top": null,
            "grid_column": null,
            "overflow_y": null,
            "overflow_x": null,
            "grid_auto_flow": null,
            "grid_area": null,
            "grid_template_columns": null,
            "flex": null,
            "_model_name": "LayoutModel",
            "justify_items": null,
            "grid_row": null,
            "max_height": null,
            "align_content": null,
            "visibility": null,
            "align_self": null,
            "height": null,
            "min_height": null,
            "padding": null,
            "grid_auto_rows": null,
            "grid_gap": null,
            "max_width": null,
            "order": null,
            "_view_module_version": "1.2.0",
            "grid_template_areas": null,
            "object_position": null,
            "object_fit": null,
            "grid_auto_columns": null,
            "margin": null,
            "display": null,
            "left": null
          }
        },
        "9bcea393ccf846a5918767b87836ee6e": {
          "model_module": "@jupyter-widgets/controls",
          "model_name": "HTMLModel",
          "model_module_version": "1.5.0",
          "state": {
            "_view_name": "HTMLView",
            "style": "IPY_MODEL_6888a3b1374d4504aafb8e4936731d1e",
            "_dom_classes": [],
            "description": "",
            "_model_name": "HTMLModel",
            "placeholder": "​",
            "_view_module": "@jupyter-widgets/controls",
            "_model_module_version": "1.5.0",
            "value": " 35%",
            "_view_count": null,
            "_view_module_version": "1.5.0",
            "description_tooltip": null,
            "_model_module": "@jupyter-widgets/controls",
            "layout": "IPY_MODEL_e6bb465e68a74aed81633a5197c34bed"
          }
        },
        "40908a9353f54b21ac50d030cdbc6307": {
          "model_module": "@jupyter-widgets/controls",
          "model_name": "FloatProgressModel",
          "model_module_version": "1.5.0",
          "state": {
            "_view_name": "ProgressView",
            "style": "IPY_MODEL_285b7e9a2cf444849095646324524040",
            "_dom_classes": [],
            "description": "",
            "_model_name": "FloatProgressModel",
            "bar_style": "",
            "max": 2715,
            "_view_module": "@jupyter-widgets/controls",
            "_model_module_version": "1.5.0",
            "value": 937,
            "_view_count": null,
            "_view_module_version": "1.5.0",
            "orientation": "horizontal",
            "min": 0,
            "description_tooltip": null,
            "_model_module": "@jupyter-widgets/controls",
            "layout": "IPY_MODEL_b0b928f5bb934fee9064ffffc81fdb59"
          }
        },
        "5f638b661e174918891ddeef2624ed57": {
          "model_module": "@jupyter-widgets/controls",
          "model_name": "HTMLModel",
          "model_module_version": "1.5.0",
          "state": {
            "_view_name": "HTMLView",
            "style": "IPY_MODEL_34e02e7e771147e6b635d612ce879fc8",
            "_dom_classes": [],
            "description": "",
            "_model_name": "HTMLModel",
            "placeholder": "​",
            "_view_module": "@jupyter-widgets/controls",
            "_model_module_version": "1.5.0",
            "value": " 937/2715 [2:00:03&lt;3:47:23,  7.67s/it]",
            "_view_count": null,
            "_view_module_version": "1.5.0",
            "description_tooltip": null,
            "_model_module": "@jupyter-widgets/controls",
            "layout": "IPY_MODEL_ab5d757c6be94f2d87f18b6d4c6e2639"
          }
        },
        "6888a3b1374d4504aafb8e4936731d1e": {
          "model_module": "@jupyter-widgets/controls",
          "model_name": "DescriptionStyleModel",
          "model_module_version": "1.5.0",
          "state": {
            "_view_name": "StyleView",
            "_model_name": "DescriptionStyleModel",
            "description_width": "",
            "_view_module": "@jupyter-widgets/base",
            "_model_module_version": "1.5.0",
            "_view_count": null,
            "_view_module_version": "1.2.0",
            "_model_module": "@jupyter-widgets/controls"
          }
        },
        "e6bb465e68a74aed81633a5197c34bed": {
          "model_module": "@jupyter-widgets/base",
          "model_name": "LayoutModel",
          "model_module_version": "1.2.0",
          "state": {
            "_view_name": "LayoutView",
            "grid_template_rows": null,
            "right": null,
            "justify_content": null,
            "_view_module": "@jupyter-widgets/base",
            "overflow": null,
            "_model_module_version": "1.2.0",
            "_view_count": null,
            "flex_flow": null,
            "width": null,
            "min_width": null,
            "border": null,
            "align_items": null,
            "bottom": null,
            "_model_module": "@jupyter-widgets/base",
            "top": null,
            "grid_column": null,
            "overflow_y": null,
            "overflow_x": null,
            "grid_auto_flow": null,
            "grid_area": null,
            "grid_template_columns": null,
            "flex": null,
            "_model_name": "LayoutModel",
            "justify_items": null,
            "grid_row": null,
            "max_height": null,
            "align_content": null,
            "visibility": null,
            "align_self": null,
            "height": null,
            "min_height": null,
            "padding": null,
            "grid_auto_rows": null,
            "grid_gap": null,
            "max_width": null,
            "order": null,
            "_view_module_version": "1.2.0",
            "grid_template_areas": null,
            "object_position": null,
            "object_fit": null,
            "grid_auto_columns": null,
            "margin": null,
            "display": null,
            "left": null
          }
        },
        "285b7e9a2cf444849095646324524040": {
          "model_module": "@jupyter-widgets/controls",
          "model_name": "ProgressStyleModel",
          "model_module_version": "1.5.0",
          "state": {
            "_view_name": "StyleView",
            "_model_name": "ProgressStyleModel",
            "description_width": "",
            "_view_module": "@jupyter-widgets/base",
            "_model_module_version": "1.5.0",
            "_view_count": null,
            "_view_module_version": "1.2.0",
            "bar_color": null,
            "_model_module": "@jupyter-widgets/controls"
          }
        },
        "b0b928f5bb934fee9064ffffc81fdb59": {
          "model_module": "@jupyter-widgets/base",
          "model_name": "LayoutModel",
          "model_module_version": "1.2.0",
          "state": {
            "_view_name": "LayoutView",
            "grid_template_rows": null,
            "right": null,
            "justify_content": null,
            "_view_module": "@jupyter-widgets/base",
            "overflow": null,
            "_model_module_version": "1.2.0",
            "_view_count": null,
            "flex_flow": null,
            "width": null,
            "min_width": null,
            "border": null,
            "align_items": null,
            "bottom": null,
            "_model_module": "@jupyter-widgets/base",
            "top": null,
            "grid_column": null,
            "overflow_y": null,
            "overflow_x": null,
            "grid_auto_flow": null,
            "grid_area": null,
            "grid_template_columns": null,
            "flex": null,
            "_model_name": "LayoutModel",
            "justify_items": null,
            "grid_row": null,
            "max_height": null,
            "align_content": null,
            "visibility": null,
            "align_self": null,
            "height": null,
            "min_height": null,
            "padding": null,
            "grid_auto_rows": null,
            "grid_gap": null,
            "max_width": null,
            "order": null,
            "_view_module_version": "1.2.0",
            "grid_template_areas": null,
            "object_position": null,
            "object_fit": null,
            "grid_auto_columns": null,
            "margin": null,
            "display": null,
            "left": null
          }
        },
        "34e02e7e771147e6b635d612ce879fc8": {
          "model_module": "@jupyter-widgets/controls",
          "model_name": "DescriptionStyleModel",
          "model_module_version": "1.5.0",
          "state": {
            "_view_name": "StyleView",
            "_model_name": "DescriptionStyleModel",
            "description_width": "",
            "_view_module": "@jupyter-widgets/base",
            "_model_module_version": "1.5.0",
            "_view_count": null,
            "_view_module_version": "1.2.0",
            "_model_module": "@jupyter-widgets/controls"
          }
        },
        "ab5d757c6be94f2d87f18b6d4c6e2639": {
          "model_module": "@jupyter-widgets/base",
          "model_name": "LayoutModel",
          "model_module_version": "1.2.0",
          "state": {
            "_view_name": "LayoutView",
            "grid_template_rows": null,
            "right": null,
            "justify_content": null,
            "_view_module": "@jupyter-widgets/base",
            "overflow": null,
            "_model_module_version": "1.2.0",
            "_view_count": null,
            "flex_flow": null,
            "width": null,
            "min_width": null,
            "border": null,
            "align_items": null,
            "bottom": null,
            "_model_module": "@jupyter-widgets/base",
            "top": null,
            "grid_column": null,
            "overflow_y": null,
            "overflow_x": null,
            "grid_auto_flow": null,
            "grid_area": null,
            "grid_template_columns": null,
            "flex": null,
            "_model_name": "LayoutModel",
            "justify_items": null,
            "grid_row": null,
            "max_height": null,
            "align_content": null,
            "visibility": null,
            "align_self": null,
            "height": null,
            "min_height": null,
            "padding": null,
            "grid_auto_rows": null,
            "grid_gap": null,
            "max_width": null,
            "order": null,
            "_view_module_version": "1.2.0",
            "grid_template_areas": null,
            "object_position": null,
            "object_fit": null,
            "grid_auto_columns": null,
            "margin": null,
            "display": null,
            "left": null
          }
        }
      }
    }
  },
  "cells": [
    {
      "cell_type": "markdown",
      "metadata": {
        "id": "view-in-github",
        "colab_type": "text"
      },
      "source": [
        "<a href=\"https://colab.research.google.com/github/tokuton1024/Kaggle/blob/master/baseline_02_Scibert%E3%81%AE%E5%A0%B4%E5%90%88.ipynb\" target=\"_parent\"><img src=\"https://colab.research.google.com/assets/colab-badge.svg\" alt=\"Open In Colab\"/></a>"
      ]
    },
    {
      "cell_type": "markdown",
      "metadata": {
        "id": "YxBGLBeXpWKO"
      },
      "source": [
        "# Mount"
      ]
    },
    {
      "cell_type": "code",
      "metadata": {
        "colab": {
          "base_uri": "https://localhost:8080/"
        },
        "id": "qaVOvtHNpTA0",
        "outputId": "25da46ba-bde5-4428-ab28-f7170053defd"
      },
      "source": [
        "from google.colab import drive, files\n",
        "drive.mount('/content/drive')  # drive をマウント"
      ],
      "execution_count": 1,
      "outputs": [
        {
          "output_type": "stream",
          "name": "stdout",
          "text": [
            "Mounted at /content/drive\n"
          ]
        }
      ]
    },
    {
      "cell_type": "markdown",
      "metadata": {
        "id": "Q87DOK7XMaRp"
      },
      "source": [
        "# Setup"
      ]
    },
    {
      "cell_type": "code",
      "metadata": {
        "id": "gNbVhlsiMNwb"
      },
      "source": [
        "import os\n",
        "import shutil\n",
        "from requests import get\n",
        "\n",
        "\n",
        "! pip install --quiet signate\n",
        "! pip install --quiet transformers\n",
        "! pip install --quiet tensorflow-addons\n",
        "\n",
        "os.makedirs(\"/root/.signate\", exist_ok=True)  # API token 用のディレクトリを作成\n",
        "token_path = \"/content/drive/MyDrive/Signate/signate.json\"  # token の path\n",
        "shutil.copy(token_path, \"/root/.signate\")  # tokenを\"/root/.signate\"にコピー\n",
        "\n",
        "DRIVE = \"/content/drive/MyDrive/competitioin/Signate-Systematic-Review\"  # Drive のパス\n",
        "EXP = get('http://172.28.0.2:9000/api/sessions').json()[0]['name'][:-6]  # notebook の名前を取得\n",
        "INPUT = os.path.join(DRIVE, \"input\")\n",
        "OUTPUT = os.path.join(DRIVE, \"output\")\n",
        "OUTPUT_EXP = os.path.join(OUTPUT, EXP)\n",
        "OUTPUT_EXP_MODEL = os.path.join(OUTPUT_EXP, \"model\")\n",
        "OUTPUT_EXP_PREDS = os.path.join(OUTPUT_EXP, \"preds\")\n",
        "OUTPUT_EXP_FIG = os.path.join(OUTPUT_EXP, \"fig\")\n",
        "SUBMISSION = os.path.join(DRIVE, \"submission\")\n",
        "\n",
        "if not os.path.isdir(INPUT):  # 初回時にのみデータをINPUTフォルダにロード\n",
        "    os.makedirs(INPUT, exist_ok=True)\n",
        "    ! signate download --competition-id=471 --path=$INPUT\n",
        "\n",
        "# 実験ごとのフォルダを作成\n",
        "dirs = [INPUT, OUTPUT, OUTPUT_EXP, SUBMISSION, OUTPUT_EXP_MODEL, OUTPUT_EXP_PREDS, OUTPUT_EXP_FIG]\n",
        "for d in dirs:\n",
        "    os.makedirs(d, exist_ok=True)"
      ],
      "execution_count": null,
      "outputs": []
    },
    {
      "cell_type": "code",
      "metadata": {
        "id": "WUKYpdOZgyBH"
      },
      "source": [
        "!pip install -q transformers==2.11.0\n",
        "!wget https://s3-us-west-2.amazonaws.com/ai2-s2-research/scibert/tensorflow_models/scibert_scivocab_uncased.tar.gz\n",
        "!tar -xvf ./scibert_scivocab_uncased.tar.gz"
      ],
      "execution_count": null,
      "outputs": []
    },
    {
      "cell_type": "code",
      "metadata": {
        "id": "AflN_gO0g7Ys"
      },
      "source": [
        "os.environ[\"WANDB_API_KEY\"] = \"0\" ## to silence warning\n",
        "!transformers-cli convert --model_type bert \\\n",
        "  --tf_checkpoint './scibert_scivocab_uncased/bert_model.ckpt' \\\n",
        "  --config './scibert_scivocab_uncased/bert_config.json' \\\n",
        "  --pytorch_dump_output './scibert_scivocab_uncased/pytorch_model.bin'"
      ],
      "execution_count": null,
      "outputs": []
    },
    {
      "cell_type": "code",
      "metadata": {
        "colab": {
          "base_uri": "https://localhost:8080/"
        },
        "id": "nTY7M48r284f",
        "outputId": "b263c547-fdfb-4b00-bdb7-8fe33e146653"
      },
      "source": [
        "from tqdm.notebook import tqdm\n",
        "import numpy as np\n",
        "import pandas as pd\n",
        "import matplotlib.pyplot as plt\n",
        "import matplotlib as mpl\n",
        "mpl.rcParams['figure.figsize'] = (12, 12)\n",
        "import seaborn as sns\n",
        "import tensorflow as tf\n",
        "\n",
        "from transformers import BertTokenizer ,BertConfig\n",
        "from tensorflow.keras.preprocessing.sequence import pad_sequences\n",
        "from sklearn.model_selection import train_test_split\n",
        "\n",
        "from transformers import TFBertModel\n",
        "from tensorflow.keras.layers import Dense, Flatten\n",
        "\n",
        "import time\n",
        "from transformers import create_optimizer\n",
        "import transformers\n",
        "\n",
        "print('transformers version :', transformers.__version__)"
      ],
      "execution_count": 5,
      "outputs": [
        {
          "output_type": "stream",
          "name": "stdout",
          "text": [
            "transformers version : 2.11.0\n"
          ]
        }
      ]
    },
    {
      "cell_type": "code",
      "metadata": {
        "id": "XcfB_vDJ7EUk"
      },
      "source": [
        "!git clone -b master https://github.com/charles9n/bert-sklearn\n",
        "!cd bert-sklearn; pip install ."
      ],
      "execution_count": null,
      "outputs": []
    },
    {
      "cell_type": "markdown",
      "metadata": {
        "id": "zrvR0yaMoK1c"
      },
      "source": [
        "# TPU Setting"
      ]
    },
    {
      "cell_type": "code",
      "metadata": {
        "id": "RK_O78n7dEOg",
        "colab": {
          "base_uri": "https://localhost:8080/"
        },
        "outputId": "e92e6ccd-7524-478d-8d0d-4859d81a051b"
      },
      "source": [
        "import warnings\n",
        "warnings.filterwarnings(\"ignore\")  # ignore warnings\n",
        "\n",
        "# TPUのSetting、\n",
        "try:\n",
        "    TPU = tf.distribute.cluster_resolver.TPUClusterResolver()  # TPU detection\n",
        "    print('Running on TPU ', TPU.cluster_spec().as_dict()['worker'])\n",
        "    tf.config.experimental_connect_to_cluster(TPU)\n",
        "    tf.tpu.experimental.initialize_tpu_system(TPU)\n",
        "except ValueError:\n",
        "    TPU = None\n",
        "    print('INFO: Not connected to a TPU runtime')"
      ],
      "execution_count": 29,
      "outputs": [
        {
          "output_type": "stream",
          "name": "stderr",
          "text": [
            "INFO:absl:Entering into master device scope: /job:worker/replica:0/task:0/device:CPU:0\n"
          ]
        },
        {
          "output_type": "stream",
          "name": "stdout",
          "text": [
            "Running on TPU  ['10.107.172.106:8470']\n",
            "INFO:tensorflow:Clearing out eager caches\n"
          ]
        },
        {
          "output_type": "stream",
          "name": "stderr",
          "text": [
            "INFO:tensorflow:Clearing out eager caches\n"
          ]
        },
        {
          "output_type": "stream",
          "name": "stdout",
          "text": [
            "INFO:tensorflow:Initializing the TPU system: grpc://10.107.172.106:8470\n"
          ]
        },
        {
          "output_type": "stream",
          "name": "stderr",
          "text": [
            "INFO:tensorflow:Initializing the TPU system: grpc://10.107.172.106:8470\n"
          ]
        },
        {
          "output_type": "stream",
          "name": "stdout",
          "text": [
            "INFO:tensorflow:Finished initializing TPU system.\n"
          ]
        },
        {
          "output_type": "stream",
          "name": "stderr",
          "text": [
            "INFO:tensorflow:Finished initializing TPU system.\n"
          ]
        }
      ]
    },
    {
      "cell_type": "markdown",
      "metadata": {
        "id": "ZHmUGGZ6k6qy"
      },
      "source": [
        "# Load Data"
      ]
    },
    {
      "cell_type": "code",
      "metadata": {
        "id": "rh96cp9-Or_o",
        "colab": {
          "base_uri": "https://localhost:8080/"
        },
        "outputId": "33a9d820-8c1d-4d2e-d9f0-07151886ab51"
      },
      "source": [
        "# load data\n",
        "train_data = pd.read_csv(os.path.join(INPUT, \"train.csv\"))\n",
        "test_data = pd.read_csv(os.path.join(INPUT, \"test.csv\"))\n",
        "#公式アナウンスより修正\n",
        "train_data.at[train_data['id']==2488,'judgement'] = 0\n",
        "train_data.at[train_data['id']==7708,'judgement'] = 0\n",
        "\n",
        "print(test_data.shape)\n",
        "test_data.head()\n",
        "\n",
        "# preprocess\n",
        "train_data[\"combined_text\"] = train_data[\"title\"] + \" \" + train_data[\"abstract\"].fillna(\"\")\n",
        "test_data[\"combined_text\"] = test_data[\"title\"] + \" \" + test_data[\"abstract\"].fillna(\"\")"
      ],
      "execution_count": 12,
      "outputs": [
        {
          "output_type": "stream",
          "name": "stdout",
          "text": [
            "(40834, 3)\n"
          ]
        }
      ]
    },
    {
      "cell_type": "code",
      "metadata": {
        "id": "o3N4n_mEsNjs"
      },
      "source": [
        "label_cols = ['judgement']"
      ],
      "execution_count": 26,
      "outputs": []
    },
    {
      "cell_type": "markdown",
      "metadata": {
        "id": "kv2pxrJhmJR-"
      },
      "source": [
        "# Config"
      ]
    },
    {
      "cell_type": "code",
      "metadata": {
        "id": "Kq8YZBzjmOZS"
      },
      "source": [
        "# Parameters\n",
        "\n",
        "BATCH_SIZE = 8\n",
        "TEST_BATCH_SIZE = 8\n",
        "NR_EPOCHS = 1\n",
        "MAX_LEN = 300 # try diffrent lengths\n",
        "threshold = 0.4\n",
        "bert_model_name = './scibert_scivocab_uncased'\n",
        "config = BertConfig.from_json_file('./scibert_scivocab_uncased/bert_config.json')"
      ],
      "execution_count": 10,
      "outputs": []
    },
    {
      "cell_type": "markdown",
      "metadata": {
        "id": "TENNxBrFOAJn"
      },
      "source": [
        "# Tokenizer"
      ]
    },
    {
      "cell_type": "code",
      "metadata": {
        "id": "2BxHJqD4ODSh",
        "colab": {
          "base_uri": "https://localhost:8080/",
          "height": 49,
          "referenced_widgets": [
            "a81683ffda414673a9bba0594dcef330",
            "454b6db674674f58a42abf5c94cb197f",
            "c090faac7821409cae17c753acc7054a",
            "3932bba2f124474db4d178aa8a259b4f",
            "23881e898294463f8b88ca26cec6b3b7",
            "786830d23a01442dbc15b74a70eaec0e",
            "70fc7e66d6af4d6ba6e96434d2e32124",
            "361f39966990413db10b96fee93d15c2",
            "b3f2ca2f388141d0aac67fc6f577c594",
            "f4dda49cd72b407abdfe739019657e4f",
            "87d50a018e004be3adee083799f1caf2"
          ]
        },
        "outputId": "e7b38808-cee6-49fa-da9b-20913e8cddf9"
      },
      "source": [
        "tokenizer = BertTokenizer.from_pretrained(bert_model_name, do_lower_case=True)\n",
        "\n",
        "def tokenize_sentences(sentences, tokenizer, max_seq_len = 128):\n",
        "    tokenized_sentences = []\n",
        "\n",
        "    for sentence in tqdm(sentences):\n",
        "        tokenized_sentence = tokenizer.encode(sentence,                  \n",
        "                                              add_special_tokens = True, \n",
        "                                              max_length = max_seq_len  \n",
        "                                             )\n",
        "        tokenized_sentences.append(tokenized_sentence)\n",
        "\n",
        "    return tokenized_sentences\n",
        "\n",
        "def create_attention_masks(tokenized_and_padded_sentences):\n",
        "    attention_masks = []\n",
        "\n",
        "    for sentence in tokenized_and_padded_sentences:\n",
        "        att_mask = [int(token_id > 0) for token_id in sentence]\n",
        "        \n",
        "        attention_masks.append(att_mask)\n",
        "\n",
        "    return np.asarray(attention_masks)\n",
        "\n",
        "input_ids = tokenize_sentences(train_data['combined_text'], tokenizer, MAX_LEN)\n",
        "input_ids = pad_sequences(input_ids, maxlen=MAX_LEN, dtype=\"long\", value=0, truncating=\"post\", padding=\"post\")\n",
        "attention_masks = create_attention_masks(input_ids)"
      ],
      "execution_count": 13,
      "outputs": [
        {
          "output_type": "display_data",
          "data": {
            "application/vnd.jupyter.widget-view+json": {
              "model_id": "a81683ffda414673a9bba0594dcef330",
              "version_minor": 0,
              "version_major": 2
            },
            "text/plain": [
              "  0%|          | 0/27145 [00:00<?, ?it/s]"
            ]
          },
          "metadata": {}
        }
      ]
    },
    {
      "cell_type": "markdown",
      "metadata": {
        "id": "T_u-YTcC_hvv"
      },
      "source": [
        "# SciBERT Classifier"
      ]
    },
    {
      "cell_type": "code",
      "metadata": {
        "id": "XXfpzoH8oNS_"
      },
      "source": [
        "class BertClassifier(tf.keras.Model):    \n",
        "    \n",
        "    def __init__(self, bert: TFBertModel, num_classes: int):\n",
        "        super().__init__()\n",
        "        self.bert = bert\n",
        "        self.classifier = Dense(num_classes, activation='sigmoid')\n",
        "        \n",
        "    def call(self, input_ids, attention_mask=None, token_type_ids=None, position_ids=None, head_mask=None):\n",
        "        \n",
        "        outputs = self.bert(input_ids,\n",
        "                            attention_mask=attention_mask,\n",
        "                            token_type_ids=token_type_ids,\n",
        "                            position_ids=position_ids,\n",
        "                            head_mask=head_mask)\n",
        "        \n",
        "        cls_output = outputs[1]\n",
        "        \n",
        "        cls_output = self.classifier(cls_output)\n",
        "                \n",
        "        return cls_output"
      ],
      "execution_count": 14,
      "outputs": []
    },
    {
      "cell_type": "code",
      "metadata": {
        "id": "wCoX8HukoWwr"
      },
      "source": [
        "def create_dataset(data_tuple, batch_size, train=True):\n",
        "    \n",
        "    dataset = tf.data.Dataset.from_tensor_slices(data_tuple)\n",
        "    \n",
        "    dataset = dataset.repeat(1)\n",
        "    \n",
        "    if train:\n",
        "        \n",
        "        dataset = dataset.shuffle(buffer_size=10000)\n",
        "    \n",
        "    dataset = dataset.batch(batch_size)\n",
        "    \n",
        "    if train:\n",
        "        \n",
        "        dataset = dataset.prefetch(1)\n",
        "        \n",
        "    if not train:\n",
        "        \n",
        "        dataset = dataset.cache()\n",
        "    \n",
        "    return dataset"
      ],
      "execution_count": 15,
      "outputs": []
    },
    {
      "cell_type": "code",
      "metadata": {
        "id": "hd3z1rD7o5IF"
      },
      "source": [
        "def create_test_dataset():\n",
        "    \n",
        "    test_input_ids = tokenize_sentences(test_data['combined_text'], tokenizer, MAX_LEN)\n",
        "    test_input_ids = pad_sequences(test_input_ids, maxlen=MAX_LEN, dtype=\"long\", value=0, truncating=\"post\", padding=\"post\")\n",
        "    test_attention_masks = create_attention_masks(test_input_ids)\n",
        "    test_steps = len(test_data) // TEST_BATCH_SIZE\n",
        "    test_dataset = create_dataset((test_input_ids, test_attention_masks), batch_size=TEST_BATCH_SIZE, train=False)\n",
        "    \n",
        "    return test_dataset\n",
        "    \n",
        "    SUBMISSION_PATH = os.path.join(SUBMISSION, \"basel.csv\")\n",
        "\n",
        "    submission = pd.read_csv(SUBMISSION_PATH, index_col='id')\n",
        "\n",
        "def generate_class_probablities(model,test_dataset,test_steps):\n",
        "    \n",
        "    for i, (token_ids, masks) in enumerate(tqdm(test_dataset, total=test_steps)):\n",
        "        \n",
        "        sample_ids = test_data.iloc[i*TEST_BATCH_SIZE:(i+1)*TEST_BATCH_SIZE]['id']\n",
        "        \n",
        "        predictions = model(token_ids, attention_mask=masks).numpy()\n",
        "        \n",
        "        submission.loc[sample_ids, label_cols] = predictions\n",
        "    \n",
        "    return submission.loc[:,label_cols].values\n",
        "\n",
        "test_dataset = create_test_dataset()\n",
        "\n",
        "test_steps = len(test_data) // TEST_BATCH_SIZE\n",
        "\n",
        "class_probs = np.zeros(shape =(len(test_data),len(label_cols)))"
      ],
      "execution_count": null,
      "outputs": []
    },
    {
      "cell_type": "code",
      "metadata": {
        "id": "6tkOob_7ro-a"
      },
      "source": [
        "#Gradient Calculation\n",
        "\n",
        "def train_step(model, token_ids, masks, labels):\n",
        "    \n",
        "    labels = tf.dtypes.cast(labels, tf.float32)\n",
        "    with tf.GradientTape() as tape:\n",
        "        predictions = model(token_ids, attention_mask=masks)\n",
        "        loss = loss_object(labels, predictions)\n",
        "    \n",
        "    gradients = tape.gradient(loss, model.trainable_variables)\n",
        "    \n",
        "    optimizer.apply_gradients(zip(gradients, model.trainable_variables), name = 'gradients')\n",
        "    \n",
        "    train_loss(loss)\n",
        "\n",
        "    for i, auc in enumerate(train_auc_metrics):\n",
        "        \n",
        "        auc.update_state(labels[:,i], predictions[:,i])\n",
        "        \n",
        "def validation_step(model, token_ids, masks, labels):\n",
        "    \n",
        "    labels = tf.dtypes.cast(labels, tf.float32)\n",
        "\n",
        "    predictions = model(token_ids, attention_mask=masks, training=False)\n",
        "    \n",
        "    v_loss = loss_object(labels, predictions)\n",
        "\n",
        "    validation_loss(v_loss)\n",
        "    \n",
        "    for i, auc in enumerate(validation_auc_metrics):\n",
        "        \n",
        "        auc.update_state(labels[:,i], predictions[:,i])   "
      ],
      "execution_count": 22,
      "outputs": []
    },
    {
      "cell_type": "markdown",
      "metadata": {
        "id": "_lvPcYOzipOP"
      },
      "source": [
        "# Model"
      ]
    },
    {
      "cell_type": "code",
      "metadata": {
        "id": "lUwLzY-Vemqd",
        "colab": {
          "base_uri": "https://localhost:8080/",
          "height": 593,
          "referenced_widgets": [
            "b6a49165e806462bb4265ab837dd9af6",
            "f6924bea91134cd78d1623ed93276977",
            "9bcea393ccf846a5918767b87836ee6e",
            "40908a9353f54b21ac50d030cdbc6307",
            "5f638b661e174918891ddeef2624ed57",
            "6888a3b1374d4504aafb8e4936731d1e",
            "e6bb465e68a74aed81633a5197c34bed",
            "285b7e9a2cf444849095646324524040",
            "b0b928f5bb934fee9064ffffc81fdb59",
            "34e02e7e771147e6b635d612ce879fc8",
            "ab5d757c6be94f2d87f18b6d4c6e2639"
          ]
        },
        "outputId": "27594af7-4da1-4966-b6fd-d7aeb52d618a"
      },
      "source": [
        "seeds = [0]\n",
        "\n",
        "for seed in range(len(seeds)):\n",
        "    \n",
        "    print('=' * 50, f\"CV {seed+1}\", '=' * 50)\n",
        "    model = BertClassifier(TFBertModel.from_pretrained(bert_model_name, from_pt=True, config = config), len(label_cols))\n",
        "    labels =  train_data[label_cols].values\n",
        "    train_inputs, validation_inputs, train_labels, validation_labels = train_test_split(input_ids, labels, random_state=seed, test_size = 0.2)\n",
        "    train_masks, validation_masks = train_test_split(attention_masks, random_state=seed, test_size=0.2)\n",
        "    train_size = len(train_inputs)\n",
        "    validation_size = len(validation_inputs)\n",
        "\n",
        "    train_dataset = create_dataset((train_inputs, train_masks, train_labels), batch_size=BATCH_SIZE,train=True)\n",
        "    validation_dataset = create_dataset((validation_inputs, validation_masks, validation_labels), batch_size=BATCH_SIZE,train=False)\n",
        "    \n",
        "    steps_per_epoch = train_size // (BATCH_SIZE)\n",
        "\n",
        "    #  Loss Function\n",
        "    loss_object = tf.keras.losses.BinaryCrossentropy(from_logits=False)\n",
        "\n",
        "    train_loss = tf.keras.metrics.Mean(name='train_loss')\n",
        "\n",
        "    validation_loss = tf.keras.metrics.Mean(name='val_loss')\n",
        "\n",
        "    #  Optimizer (with 1-cycle-policy)\n",
        "    warmup_steps = steps_per_epoch // 3\n",
        "\n",
        "    total_steps = steps_per_epoch * NR_EPOCHS - warmup_steps\n",
        "\n",
        "    optimizer = create_optimizer(init_lr=2e-5, num_train_steps=total_steps, num_warmup_steps=warmup_steps)\n",
        "\n",
        "    # Gradients\n",
        "    \n",
        "    gradients = 0\n",
        "    \n",
        "    #  Metrics\n",
        "    train_auc_metrics = [tf.keras.metrics.AUC() for i in range(len(label_cols))]\n",
        "\n",
        "    validation_auc_metrics = [tf.keras.metrics.AUC() for i in range(len(label_cols))]\n",
        "\n",
        "\n",
        "    for epoch in range(NR_EPOCHS):\n",
        "\n",
        "        print('=' * 50, f\"EPOCH {epoch+1}\", '=' * 50)\n",
        "\n",
        "        start = time.time()\n",
        "\n",
        "\n",
        "        for batch_no, (token_ids, masks, labels) in enumerate(tqdm(train_dataset)):\n",
        "\n",
        "            train_step(model, token_ids, masks, labels)\n",
        "\n",
        "            if batch_no % 100 == 0:\n",
        "\n",
        "                    print(f'\\nTrain Step: {batch_no}, Loss: {train_loss.result()}')\n",
        "\n",
        "                    for i, label_name in enumerate(label_cols):\n",
        "\n",
        "                        print(f\"{label_name} roc_auc {train_auc_metrics[i].result()}\")\n",
        "\n",
        "                        train_auc_metrics[i].reset_states()\n",
        "\n",
        "        for batch_no, (token_ids, masks, labels) in enumerate(tqdm(validation_dataset)):\n",
        "\n",
        "            validation_step(model, token_ids, masks, labels)\n",
        "\n",
        "        print(f'\\nEpoch {epoch+1}, Validation Loss: {validation_loss.result()}, Time: {time.time()-start}\\n')\n",
        "\n",
        "        for i, label_name in enumerate(label_cols):\n",
        "\n",
        "            print(f\"{label_name} roc_auc {validation_auc_metrics[i].result()}\")\n",
        "\n",
        "            validation_auc_metrics[i].reset_states()\n",
        "\n",
        "        print('\\n')\n",
        "        \n",
        "    probs = generate_class_probablities(model,test_dataset,test_steps)\n",
        "        \n",
        "    submission.loc[:, label_cols] = probs\n",
        "        \n",
        "    submission.to_csv('probs'+str(seed)+'.csv')\n",
        "        \n",
        "    class_probs += probs"
      ],
      "execution_count": null,
      "outputs": [
        {
          "output_type": "stream",
          "name": "stdout",
          "text": [
            "================================================== CV 1 ==================================================\n",
            "================================================== EPOCH 1 ==================================================\n"
          ]
        },
        {
          "output_type": "display_data",
          "data": {
            "application/vnd.jupyter.widget-view+json": {
              "model_id": "b6a49165e806462bb4265ab837dd9af6",
              "version_minor": 0,
              "version_major": 2
            },
            "text/plain": [
              "  0%|          | 0/2715 [00:00<?, ?it/s]"
            ]
          },
          "metadata": {}
        },
        {
          "output_type": "stream",
          "name": "stdout",
          "text": [
            "\n",
            "Train Step: 0, Loss: 0.25303900241851807\n",
            "judgement roc_auc 0.0\n",
            "\n",
            "Train Step: 100, Loss: 0.21692171692848206\n",
            "judgement roc_auc 0.4609745740890503\n",
            "\n",
            "Train Step: 200, Loss: 0.1531851887702942\n",
            "judgement roc_auc 0.5883769989013672\n",
            "\n",
            "Train Step: 300, Loss: 0.13130639493465424\n",
            "judgement roc_auc 0.6709978580474854\n",
            "\n",
            "Train Step: 400, Loss: 0.12140591442584991\n",
            "judgement roc_auc 0.7730823755264282\n",
            "\n",
            "Train Step: 500, Loss: 0.11365943402051926\n",
            "judgement roc_auc 0.7424203753471375\n",
            "\n",
            "Train Step: 600, Loss: 0.10569839924573898\n",
            "judgement roc_auc 0.8889495134353638\n",
            "\n",
            "Train Step: 700, Loss: 0.10033294558525085\n",
            "judgement roc_auc 0.90425705909729\n",
            "\n",
            "Train Step: 800, Loss: 0.09676118940114975\n",
            "judgement roc_auc 0.871980607509613\n",
            "\n",
            "Train Step: 900, Loss: 0.09497271478176117\n",
            "judgement roc_auc 0.9073358774185181\n"
          ]
        }
      ]
    },
    {
      "cell_type": "markdown",
      "metadata": {
        "id": "eULOO6fDi1RJ"
      },
      "source": [
        "# function"
      ]
    },
    {
      "cell_type": "code",
      "metadata": {
        "id": "EZxiplKFiuuF"
      },
      "source": [
        "def opt_fbeta_threshold(y_true, y_pred):\n",
        "    \"\"\"fbeta score計算時のthresholdを最適化\"\"\"\n",
        "    def opt_(x): \n",
        "        return -fbeta_score(y_true, y_pred >= x, beta=7)\n",
        "    result = minimize(opt_, x0=np.array([0.1]), method='Powell')\n",
        "    best_threshold = result['x'].item()\n",
        "    return best_threshold\n",
        "\n",
        "\n",
        "def metrics(y_true, y_pred):\n",
        "    \"\"\"fbeta(beta=7)の閾値最適化評価関数\"\"\"\n",
        "    bt = opt_fbeta_threshold(y_true, y_pred)\n",
        "    print(f\"bt:{bt}\")\n",
        "    score = fbeta_score(y_true, y_pred >= bt, beta=7)\n",
        "    return score\n",
        "\n",
        "\n",
        "def skf(train, n_splits, random_state):\n",
        "    \"\"\"層化KFoldのインデックスのリストを作成\"\"\"\n",
        "    skf = StratifiedKFold(n_splits=n_splits, random_state=random_state, shuffle=True)\n",
        "    return list(skf.split(train, train[Config.target_col]))\n",
        "\n",
        "\n",
        "def encode_texts(texts, tokenizer, max_length):\n",
        "    \"\"\"text encoding\"\"\"\n",
        "    encoded_dict = tokenizer.batch_encode_plus(\n",
        "        texts,\n",
        "        padding = 'max_length',\n",
        "        truncation = True,\n",
        "        max_length = max_length,\n",
        "    )\n",
        "    return dict(encoded_dict)\n",
        "\n",
        "\n",
        "def get_dataset(X, y=None, dataset=\"test\"):\n",
        "    \"\"\"データをtf.Datasetの形式に変更\"\"\"\n",
        "    if dataset==\"train\":\n",
        "        train_dataset = (\n",
        "            tf.data.Dataset\n",
        "            .from_tensor_slices((X, y))\n",
        "            .shuffle(2048)\n",
        "            .batch(Config.train_batch_size)\n",
        "            .prefetch(tf.data.experimental.AUTOTUNE)\n",
        "            )\n",
        "        if Config.steps_per_epochs is not None:\n",
        "            train_dataset = train_dataset.repeat()\n",
        "\n",
        "        return train_dataset\n",
        "\n",
        "    elif dataset==\"valid\":\n",
        "        valid_dataset = (\n",
        "            tf.data.Dataset\n",
        "            .from_tensor_slices((X, y))\n",
        "            .batch(Config.valid_batch_size)\n",
        "            .prefetch(tf.data.experimental.AUTOTUNE)\n",
        "        )\n",
        "        return valid_dataset\n",
        "    \n",
        "    elif dataset==\"test\":\n",
        "        test_dataset = (\n",
        "            tf.data.Dataset\n",
        "            .from_tensor_slices(X)\n",
        "            .batch(Config.test_batch_size)\n",
        "            .prefetch(tf.data.experimental.AUTOTUNE)\n",
        "        )\n",
        "        return test_dataset\n",
        "\n",
        "\n",
        "def get_model_and_tokenizer():\n",
        "    \"\"\"model&tokenizer を取得 (TPU ok)\"\"\"\n",
        "    #\n",
        "    if TPU:\n",
        "        tf.config.experimental_connect_to_cluster(TPU)\n",
        "        tf.tpu.experimental.initialize_tpu_system(TPU)\n",
        "        tpu_strategy = tf.distribute.experimental.TPUStrategy(TPU)\n",
        "        with tpu_strategy.scope():\n",
        "            model = build_auto_model()\n",
        "    else:\n",
        "        model = build_auto_model()\n",
        "\n",
        "    tokenizer = AutoTokenizer.from_pretrained(Config.model)\n",
        "    return model, tokenizer\n",
        "\n",
        "\n",
        "def get_class_weight(target, weight):\n",
        "    \"\"\"class weights の作成\"\"\"\n",
        "    if weight == \"balanced\":\n",
        "        class_weights = class_weight.compute_class_weight(\n",
        "            class_weight='balanced',\n",
        "            classes=np.unique(target),\n",
        "            y=target)\n",
        "        class_weights = dict(enumerate(class_weights))\n",
        "    elif weight is None:\n",
        "        class_weights = None\n",
        "    else:\n",
        "        # ex) weight = {0:0.2, 1:0.98}\n",
        "        class_weights = weight\n",
        "    \n",
        "    return class_weights\n",
        "\n",
        "\n",
        "def training_v1(train_df, valid_df, model, tokenizer, filepath):\n",
        "    \"\"\"training 用の関数\"\"\"\n",
        "    #単語IDのシーケンス\n",
        "    tr_text = encode_texts(texts=train_df[Config.text_col].tolist(), tokenizer=tokenizer, max_length=Config.max_length)\n",
        "    va_text = encode_texts(texts=valid_df[Config.text_col].tolist(), tokenizer=tokenizer, max_length=Config.max_length)\n",
        "    tr_dataset = get_dataset(X=tr_text, y=train_df[Config.target_col].values, dataset=\"train\")\n",
        "    va_dataset = get_dataset(X=va_text, y=valid_df[Config.target_col].values, dataset=\"valid\")\n",
        "\n",
        "    #学習の進捗状況を把握\n",
        "    #CallBack：学習途中での結果を返す\n",
        "    #ModelCheckpoint：最良のモデルを保存、保存するときの条件を下記で指定\n",
        "    checkpoint = tf.keras.callbacks.ModelCheckpoint(\n",
        "        filepath, \n",
        "        moniter=\"val_loss\", \n",
        "        verbose=1, \n",
        "        save_best_only=True, \n",
        "        save_weights_only=True,\n",
        "        mode=\"min\")\n",
        "    \n",
        "    #modelの学習、modelは（build_auto_model）で作っている?\n",
        "    model.fit(tr_dataset, \n",
        "              epochs=Config.epochs, \n",
        "              verbose=1, \n",
        "              callbacks=[checkpoint],\n",
        "              validation_data=va_dataset, \n",
        "              steps_per_epoch=Config.steps_per_epochs,\n",
        "              class_weight=get_class_weight(train_df[Config.target_col], weight=Config.class_weight))\n",
        "\n",
        "\n",
        "def inference_v1(test_df, model, tokenizer, filepath):\n",
        "    \"\"\"推論用の関数\"\"\"\n",
        "    model.load_weights(filepath)\n",
        "    #テキストの単語IDシーケンス化\n",
        "    te_text = encode_texts(texts=test_df[Config.text_col].tolist(), tokenizer=tokenizer, max_length=Config.max_length)\n",
        "    #tensorflowのデータ供給に関するライブラリ、GPUの待ち時間を減らしたり前処理パイプラインをまとめたり色々できるらしい\n",
        "    te_dataset = get_dataset(X=te_text, y=None, dataset=\"test\")\n",
        "\n",
        "    preds = model.predict(te_dataset)\n",
        "    return preds.reshape(-1)\n",
        "\n",
        "\n",
        "def train_cv_v1(train, cv, metrics, name, dir):\n",
        "    \"\"\"cross validationの実行関数 (train)\"\"\"\n",
        "\n",
        "    oof = np.zeros(len(train))\n",
        "    for i_fold, (tr_idx, va_idx) in enumerate(cv):\n",
        "        K.clear_session()\n",
        "        #モデルとtokenizer(文書を単語分割をして、IDに変換するモジュール)をインスタンス化\n",
        "        model, tokenizer = get_model_and_tokenizer()\n",
        "\n",
        "        tr_df, va_df = train.iloc[tr_idx].reset_index(), train.iloc[va_idx].reset_index()\n",
        "        filepath = os.path.join(dir, f\"{name}_fold{i_fold+1}.h5\")\n",
        "\n",
        "        if not os.path.isfile(filepath):  # 学習済みモデルがあればtrainingしない\n",
        "            training_v1(tr_df, va_df, model, tokenizer, filepath)\n",
        "        \n",
        "        #予測の実行\n",
        "        preds = inference_v1(va_df, model, tokenizer, filepath)\n",
        "\n",
        "        score = metrics(np.array(va_df[Config.target_col]), preds)\n",
        "        #logger.info(f\"{name}_fold{i_fold+1} >>> val socre:{score:.4f}\")\n",
        "        oof[va_idx] = preds\n",
        "    \n",
        "    score = metrics(np.array(train[Config.target_col]), oof)\n",
        "    #logger.info(f\"{name} >>> val score:{score:.4f}\")\n",
        "    return oof\n",
        "\n",
        "\n",
        "def predict_cv_v1(test, name, dir):\n",
        "    \"\"\"cross validationの実行関数 (test)\"\"\"\n",
        "    preds_fold = []\n",
        "    for i_fold in range(Config.n_fold):\n",
        "        model, tokenizer = get_model_and_tokenizer()\n",
        "\n",
        "        filepath = os.path.join(dir, f\"{name}_fold{i_fold+1}.h5\")\n",
        "        preds = inference_v1(test, model, tokenizer, filepath)\n",
        "        preds_fold.append(preds)\n",
        "\n",
        "        #logger.info(f\"{name}_fold{i_fold+1} inference\")\n",
        "    \n",
        "    preds = np.mean(preds_fold, axis=0)\n",
        "    return preds\n",
        "\n",
        "\n",
        "def visualize_confusion_matrix(\n",
        "        y_true,\n",
        "        pred_label,\n",
        "        height=.6,\n",
        "        labels=None):\n",
        "    \"\"\"混合行列をプロット \n",
        "    (https://www.guruguru.science/competitions/11/discussions/2fb11851-67d0-4e96-a4b1-5629b944f363/)\"\"\"\n",
        "    \n",
        "    conf = confusion_matrix(y_true=y_true,\n",
        "                            y_pred=pred_label,\n",
        "                            normalize='true')\n",
        "\n",
        "    n_labels = len(conf)\n",
        "    size = n_labels * height\n",
        "    fig, ax = plt.subplots(figsize=(size * 4, size * 3))\n",
        "    sns.heatmap(conf, cmap='Blues', ax=ax, annot=True, fmt='.2f')\n",
        "    ax.set_ylabel('Label')\n",
        "    ax.set_xlabel('Predict')\n",
        "\n",
        "    if labels is not None:\n",
        "        ax.set_yticklabels(labels)\n",
        "        ax.set_xticklabels(labels)\n",
        "        ax.tick_params('y', labelrotation=0)\n",
        "        ax.tick_params('x', labelrotation=90)\n",
        "\n",
        "    plt.show()\n",
        "    return fig"
      ],
      "execution_count": null,
      "outputs": []
    },
    {
      "cell_type": "markdown",
      "metadata": {
        "id": "SkKYLD5VB2VQ"
      },
      "source": [
        "# Main"
      ]
    },
    {
      "cell_type": "code",
      "metadata": {
        "id": "sGhG9GmNiy-e"
      },
      "source": [
        "def main():\n",
        "    # load data\n",
        "    train = pd.read_csv(os.path.join(INPUT, \"train.csv\"))\n",
        "    test = pd.read_csv(os.path.join(INPUT, \"test.csv\"))\n",
        "    #公式アナウンスより修正\n",
        "    train.at[train['id']==2488,'judgement'] = 0\n",
        "    train.at[train['id']==7708,'judgement'] = 0\n",
        "\n",
        "    if Config.debug:\n",
        "        train = train.sample(1000, random_state=Config.seeds[0]).reset_index(drop=True)\n",
        "        test = test.sample(1000, random_state=Config.seeds[0]).reset_index(drop=True)\n",
        "\n",
        "\n",
        "    # training\n",
        "    oof_df = pd.DataFrame()\n",
        "    for seed in Config.seeds:\n",
        "        name = f\"{Config.name_v1}-{seed}\"\n",
        "        #cross validationの実行関数\n",
        "          #skf 層化KFoldのインデックスのリストを作成\n",
        "          #metrics fbeta(beta=7)の閾値最適化評価関数\n",
        "        oof = train_cv_v1(train, \n",
        "                        cv=skf(train, n_splits=Config.n_fold, random_state=seed),\n",
        "                        metrics=metrics, \n",
        "                        name=name, \n",
        "                        dir=OUTPUT_EXP_MODEL)\n",
        "        oof_df[name] = oof\n",
        "\n",
        "    oof_df.to_csv(os.path.join(OUTPUT_EXP_PREDS, \"oof.csv\"), index=False)  # oof 予測値(prob)を保存\n",
        "\n",
        "    y_true = train[Config.target_col]\n",
        "    y_pred = oof_df.mean(axis=1)\n",
        "\n",
        "    best_threshold = opt_fbeta_threshold(y_true.values, y_pred.values)\n",
        "    oof_score = fbeta_score(y_true, y_pred >= best_threshold, beta=7)\n",
        "    comments = f\"score:{oof_score:.4f}/threshold:{best_threshold}\"  # 最終的なスコアと閾値 (スペースがあるとsubmit時のコメントエラーが出る)\n",
        "    #logger.info(comments)\n",
        "\n",
        "    fig = visualize_confusion_matrix(y_true, y_pred>=best_threshold)  # 混合行列を表示&save\n",
        "    fig.savefig(os.path.join(OUTPUT_EXP_FIG, \"cm.png\"), dpi=300)\n",
        "\n",
        "    \n",
        "    preds_df = pd.DataFrame()\n",
        "    for seed in Config.seeds:\n",
        "        name = f\"{Config.name_v1}-{seed}\"\n",
        "        preds = predict_cv_v1(test, name, dir=OUTPUT_EXP_MODEL)\n",
        "        preds_df[name] = preds\n",
        "        \n",
        "    # test予測値(prob)を保存\n",
        "    preds_df.to_csv(os.path.join(OUTPUT_EXP_PREDS, \"preds.csv\"), index=False)  \n",
        "\n",
        "    # submit\n",
        "    if Config.submit:\n",
        "        sub_df = pd.read_csv(os.path.join(INPUT, \"sample_submit.csv\"), header=None)\n",
        "        sub_df.columns = [\"id\", \"judgement\"]\n",
        "\n",
        "        preds = preds_df.mean(axis=1)\n",
        "        sub_df[\"judgement\"] = (preds.values >= best_threshold) * 1\n",
        "        \n",
        "        filepath = os.path.join(SUBMISSION, f\"{EXP}.csv\")\n",
        "        sub_df.to_csv(filepath, index=False, header=False)\n",
        "        \n",
        "        # signate api を使ってsubmit\n",
        "        ! signate submit --competition-id=471 $filepath --note $comments"
      ],
      "execution_count": null,
      "outputs": []
    }
  ]
}